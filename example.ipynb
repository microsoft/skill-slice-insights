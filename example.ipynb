{
 "cells": [
  {
   "cell_type": "markdown",
   "metadata": {},
   "source": [
    "## Overview\n",
    "\n",
    "This notebook shows how to interact with our codebase and annotations (rationales, localized skills, skill slices). Most of the code resides in pipeline.py. We start by initializing a SkillAnnotator object, which facilitates most key functions.  "
   ]
  },
  {
   "cell_type": "code",
   "execution_count": 2,
   "metadata": {},
   "outputs": [],
   "source": [
    "from pipeline import SkillAnnotator\n",
    "an = SkillAnnotator()"
   ]
  },
  {
   "cell_type": "code",
   "execution_count": 3,
   "metadata": {},
   "outputs": [],
   "source": [
    "from IPython.display import Image, display\n",
    "from dsets import _DSET_DICT\n",
    "from tqdm.notebook import tqdm \n",
    "from analysis import get_cluster_info"
   ]
  },
  {
   "cell_type": "markdown",
   "metadata": {},
   "source": [
    "## Downloading datasets\n",
    "\n",
    "Our original 12 dataset corpus consists of benchmarks accessible from huggingface, enabling easy downloading. Further, we implement our datasets in a way such that they auto-download lazily (i.e. when first accessed). That is, the first time each instance is accessed, it will be downloaded and saved to the path defined by _DATA_ROOT in constants.py. For many datasets, images will also be downloaded lazily (i.e. each time an instance is accessed for the first time). \n",
    "\n",
    "The output to the code block is what it looks like after having downloaded all datasets already. This shows the size of each dataset, as well as an example instance (returned as a dict) from each one. Some datasets provide additional metadata -- in our work, we only use the 'image',  'prompt', 'index', and 'answer' keys."
   ]
  },
  {
   "cell_type": "code",
   "execution_count": 3,
   "metadata": {},
   "outputs": [
    {
     "data": {
      "application/vnd.jupyter.widget-view+json": {
       "model_id": "63caadd42d9e4a6ba8340212198d0e56",
       "version_major": 2,
       "version_minor": 0
      },
      "text/plain": [
       "  0%|          | 0/1000 [00:00<?, ?it/s]"
      ]
     },
     "metadata": {},
     "output_type": "display_data"
    },
    {
     "name": "stdout",
     "output_type": "stream",
     "text": [
      "{'image': <PIL.JpegImagePlugin.JpegImageFile image mode=RGB size=320x240 at 0x7F6EF0552E30>, 'prompt': 'Hint: Please answer the question requiring an integer answer and provide the final value, e.g., 1, 2, 3, at the end.\\nQuestion: Subtract all brown matte cylinders. Subtract all big purple matte things. How many objects are left?', 'index': 999, 'answer': '9'}\n",
      "Downloaded and saved all instances from mathvista.\n"
     ]
    },
    {
     "data": {
      "application/vnd.jupyter.widget-view+json": {
       "model_id": "0ca83fc8e80044759f35d27d9c2057ae",
       "version_major": 2,
       "version_minor": 0
      },
      "text/plain": [
       "  0%|          | 0/4329 [00:00<?, ?it/s]"
      ]
     },
     "metadata": {},
     "output_type": "display_data"
    },
    {
     "name": "stdout",
     "output_type": "stream",
     "text": [
      "{'image': <PIL.JpegImagePlugin.JpegImageFile image mode=RGB size=362x512 at 0x7F6EF0510160>, 'prompt': \"In nature, what's the relationship between these two creatures?\\nA. Competitive relationships\\nB. Parasitic relationships\\nC. Symbiotic relationship\\nD. Predatory relationships\", 'question': \"In nature, what's the relationship between these two creatures?\", 'skills': ['relation_reasoning', 'nature_relation'], 'answer': 'D', 'options': 'A. Competitive relationships\\nB. Parasitic relationships\\nC. Symbiotic relationship\\nD. Predatory relationships', 'l2_category': 'relation_reasoning', 'category': 'nature_relation', 'index': 4328}\n",
      "Downloaded and saved all instances from mmbench.\n"
     ]
    },
    {
     "data": {
      "application/vnd.jupyter.widget-view+json": {
       "model_id": "13522176912145f7bb1754db2db74126",
       "version_major": 2,
       "version_minor": 0
      },
      "text/plain": [
       "  0%|          | 0/2126 [00:00<?, ?it/s]"
      ]
     },
     "metadata": {},
     "output_type": "display_data"
    },
    {
     "name": "stdout",
     "output_type": "stream",
     "text": [
      "{'prompt': \"'BAIDU stock has demonstrated resilience through its periodic peaks, indicating a recurring potential for growth and a strong track record.' Please answer whether the description is true or false according to the image.\\nA. True\\nB. False\", 'answer': 'false', 'image': <PIL.Image.Image image mode=RGB size=1248x920 at 0x7F6EF0512DA0>, 'img_path': '/fs/nexus-projects/skill-slicing/data/mmc/mmc_benchmark_images/stock_chart-sc18.jpg', 'options': 'A. True\\nB. False'}\n",
      "Downloaded and saved all instances from mmc.\n"
     ]
    },
    {
     "data": {
      "application/vnd.jupyter.widget-view+json": {
       "model_id": "c734d3e8c90e4e5eb7c5ff9e827f5f2f",
       "version_major": 2,
       "version_minor": 0
      },
      "text/plain": [
       "  0%|          | 0/3127 [00:00<?, ?it/s]"
      ]
     },
     "metadata": {},
     "output_type": "display_data"
    },
    {
     "name": "stdout",
     "output_type": "stream",
     "text": [
      "{'prompt': 'Is the person in the picture wearing a helmet?\\nA. Yes\\nB. No', 'answer': 'A', 'index': 3126, 'categories': ['anomaly detection', 'helmet anomaly detection'], 'image': <PIL.JpegImagePlugin.JpegImageFile image mode=RGB size=269x344 at 0x7F6EF0513A60>, 'category': 'anomaly_detection', 'options': 'A. Yes\\nB. No'}\n",
      "Downloaded and saved all instances from mmtbench.\n"
     ]
    },
    {
     "data": {
      "application/vnd.jupyter.widget-view+json": {
       "model_id": "eb4f6af828a94f5ead9bfc3cc143d4cb",
       "version_major": 2,
       "version_minor": 0
      },
      "text/plain": [
       "  0%|          | 0/2374 [00:00<?, ?it/s]"
      ]
     },
     "metadata": {},
     "output_type": "display_data"
    },
    {
     "name": "stdout",
     "output_type": "stream",
     "text": [
      "{'image': <PIL.JpegImagePlugin.JpegImageFile image mode=RGB size=366x511 at 0x7F6EF0550D00>, 'prompt': 'Is this movie originated from the country or region of venezuela? \\nA. Yes\\nB. No', 'index': 2373, 'answer': 'No', 'options': '\\nA. Yes\\nB. No'}\n",
      "Downloaded and saved all instances from mme.\n"
     ]
    },
    {
     "name": "stderr",
     "output_type": "stream",
     "text": [
      "100%|███████████████████████████████████████████████████████████████████████████████████████████████████████████████████████████████████| 30/30 [00:46<00:00,  1.56s/it]\n"
     ]
    },
    {
     "data": {
      "application/vnd.jupyter.widget-view+json": {
       "model_id": "bbf4bce28e9f47b88f3ca4027b771891",
       "version_major": 2,
       "version_minor": 0
      },
      "text/plain": [
       "  0%|          | 0/900 [00:00<?, ?it/s]"
      ]
     },
     "metadata": {},
     "output_type": "display_data"
    },
    {
     "name": "stdout",
     "output_type": "stream",
     "text": [
      "{'image': <PIL.JpegImagePlugin.JpegImageFile image mode=RGB size=820x400 at 0x7F6EE2760FA0>, 'img_path': '/fs/nexus-projects/skill-slicing/data/mmmu/validation_Sociology_30_1.jpg', 'prompt': 'Who found evidence that <image 1> has been normalised?\\nA Postman\\nB Oakley\\nC Philips\\nD Aries\\nE Mithchel and Woodey', 'question': 'Who found evidence that <image 1> has been normalised?', 'skills': ['Sociology', 'Sociology Theory'], 'answer': 'E', 'options': 'A Postman\\nB Oakley\\nC Philips\\nD Aries\\nE Mithchel and Woodey', 'field': 'Sociology', 'subfield': 'Sociology Theory'}\n",
      "Downloaded and saved all instances from mmmu.\n"
     ]
    },
    {
     "data": {
      "application/vnd.jupyter.widget-view+json": {
       "model_id": "431ccc5fad294e37bbfc3c1c053df4e2",
       "version_major": 2,
       "version_minor": 0
      },
      "text/plain": [
       "  0%|          | 0/218 [00:00<?, ?it/s]"
      ]
     },
     "metadata": {},
     "output_type": "display_data"
    },
    {
     "name": "stdout",
     "output_type": "stream",
     "text": [
      "{'image': <PIL.JpegImagePlugin.JpegImageFile image mode=RGB size=578x516 at 0x7F6EF1772E00>, 'prompt': 'The diagram below shows how the Australian Bureau of Meteorology collects up-to-the-minute information on the weather in order to produce reliable forecasts.\\n\\nWrite a report for a university lecturer describing the information shown below. \\n\\nYou should write at least 150 words.', 'index': 217, 'answer': 'The figure illustrates the process used by the Australian Bureau of Meteorology to forecast the weather.\\n\\nThere are four stages in the process, beginning with the collection of information about the weather. This information is then analysed, prepared for presentation, and finally broadcast to the public.\\n\\nLooking at the first and second stages of the process, there are three ways of collecting weather data and three ways of analysing it. Firstly, incoming information can be received by satellite and presented for analysis as a satellite photo. The same data can also be passed to a radar station and presented on a radar screen or synoptic chart. Secondly, incoming information may be collected directly by radar and analysed on a radar screen or synoptic chart. Finally, drifting buoys also receive data which can be shown on a synoptic chart.\\n\\nAt the third stage of the process, the weather broadcast is prepared on computers. Finally, it is delivered to the public on television, on the radio, or as a recorded telephone announcement.', 'capability': 'rec,ocr,gen,spat'}\n",
      "Downloaded and saved all instances from mmvet.\n"
     ]
    },
    {
     "data": {
      "application/vnd.jupyter.widget-view+json": {
       "model_id": "19cc19202d654a6bbb14906a986974b4",
       "version_major": 2,
       "version_minor": 0
      },
      "text/plain": [
       "Resolving data files:   0%|          | 0/301 [00:00<?, ?it/s]"
      ]
     },
     "metadata": {},
     "output_type": "display_data"
    },
    {
     "data": {
      "application/vnd.jupyter.widget-view+json": {
       "model_id": "65496687505e4a5fa2060e60032c34d3",
       "version_major": 2,
       "version_minor": 0
      },
      "text/plain": [
       "  0%|          | 0/300 [00:00<?, ?it/s]"
      ]
     },
     "metadata": {},
     "output_type": "display_data"
    },
    {
     "name": "stdout",
     "output_type": "stream",
     "text": [
      "{'prompt': 'How would you describe the background of the image? (a) Light shining through the clouds from the upper right corner (b) Most of the background is dark and cloudy', 'answer': '(b)', 'image': <PIL.JpegImagePlugin.JpegImageFile image mode=RGB size=224x224 at 0x7F6EF02A54E0>, 'img_path': '/fs/nexus-projects/skill-slicing/data/MMVP/images/image_300__How_would_you_describe_the_background_of_the_image.jpg', 'options': '(a) Light shining through the clouds from the upper right corner (b) Most of the background is dark and cloudy'}\n",
      "Downloaded and saved all instances from mmvp.\n"
     ]
    },
    {
     "data": {
      "application/vnd.jupyter.widget-view+json": {
       "model_id": "5aa07256dcd544c2bda53e8ff4efa04e",
       "version_major": 2,
       "version_minor": 0
      },
      "text/plain": [
       "  0%|          | 0/765 [00:00<?, ?it/s]"
      ]
     },
     "metadata": {},
     "output_type": "display_data"
    },
    {
     "name": "stdout",
     "output_type": "stream",
     "text": [
      "{'prompt': 'Where can we go from the current lane?\\nA. Turn left\\nB. Go straight\\nC. Turn left and go straight\\nD. Turn right', 'answer': 'A', 'image': <PIL.JpegImagePlugin.JpegImageFile image mode=RGB size=1448x938 at 0x7F6EE27743D0>, 'img_path': '/fs/nexus-projects/skill-slicing/data/realworld_qa/images/image_764__Where_can_we_go_from_the_current_lane.jpg'}\n",
      "Downloaded and saved all instances from realworld_qa.\n"
     ]
    },
    {
     "data": {
      "application/vnd.jupyter.widget-view+json": {
       "model_id": "3769d22ff6f54f0582916f565becde36",
       "version_major": 2,
       "version_minor": 0
      },
      "text/plain": [
       "Downloading readme:   0%|          | 0.00/3.29k [00:00<?, ?B/s]"
      ]
     },
     "metadata": {},
     "output_type": "display_data"
    },
    {
     "data": {
      "application/vnd.jupyter.widget-view+json": {
       "model_id": "dcdddc5e2342460080f352580dde7c46",
       "version_major": 2,
       "version_minor": 0
      },
      "text/plain": [
       "Downloading data:   0%|          | 0.00/205M [00:00<?, ?B/s]"
      ]
     },
     "metadata": {},
     "output_type": "display_data"
    },
    {
     "data": {
      "application/vnd.jupyter.widget-view+json": {
       "model_id": "96527ba34ce748f1993fd117fcd72f83",
       "version_major": 2,
       "version_minor": 0
      },
      "text/plain": [
       "Generating test split:   0%|          | 0/269 [00:00<?, ? examples/s]"
      ]
     },
     "metadata": {},
     "output_type": "display_data"
    },
    {
     "data": {
      "application/vnd.jupyter.widget-view+json": {
       "model_id": "7572f97650184acd8edf838fe7f01d9a",
       "version_major": 2,
       "version_minor": 0
      },
      "text/plain": [
       "  0%|          | 0/269 [00:00<?, ?it/s]"
      ]
     },
     "metadata": {},
     "output_type": "display_data"
    },
    {
     "name": "stdout",
     "output_type": "stream",
     "text": [
      "{'prompt': \"I can't fit my charger into the power strip, what should i do?\", 'answer': 'It looks like you have a power strip with UK-style outlets and an Apple charger with a US-style plug. To solve this issue, you can use the universal travel adapter you have (shown on the left in your image), which seems to have the capability to adapt a US plug for use in UK outlets. Here’s what you can do:\\n\\nSlide out the UK plug pins on the travel adapter.\\nPlug your Apple charger into the US socket on the front of the travel adapter.\\nThen plug the travel adapter into the UK-style power strip.\\nMake sure that the power strip is turned off before you insert the adapter, and check the voltage and power ratings on both your charger and the travel adapter to ensure compatibility. Once everything is securely plugged in, turn on the power strip and you should be able to charge your device.', 'image': <PIL.JpegImagePlugin.JpegImageFile image mode=RGB size=2465x3072 at 0x7F6EF0553250>, 'img_path': '/fs/nexus-projects/skill-slicing/data/reka_vibe/images/difficulty-hard_power_strip_ede3475eac0d05ab.jpg'}\n",
      "Downloaded and saved all instances from reka_vibe.\n"
     ]
    },
    {
     "data": {
      "application/vnd.jupyter.widget-view+json": {
       "model_id": "409929efee4f4d629c83de01a5341ce0",
       "version_major": 2,
       "version_minor": 0
      },
      "text/plain": [
       "Resolving data files:   0%|          | 0/273 [00:00<?, ?it/s]"
      ]
     },
     "metadata": {},
     "output_type": "display_data"
    },
    {
     "data": {
      "application/vnd.jupyter.widget-view+json": {
       "model_id": "74b79cd0fa944e309e0cbb08c20d9047",
       "version_major": 2,
       "version_minor": 0
      },
      "text/plain": [
       "Resolving data files:   0%|          | 0/273 [00:00<?, ?it/s]"
      ]
     },
     "metadata": {},
     "output_type": "display_data"
    },
    {
     "data": {
      "application/vnd.jupyter.widget-view+json": {
       "model_id": "580762774d234010b945969b2a769078",
       "version_major": 2,
       "version_minor": 0
      },
      "text/plain": [
       "Loading dataset shards:   0%|          | 0/31 [00:00<?, ?it/s]"
      ]
     },
     "metadata": {},
     "output_type": "display_data"
    },
    {
     "data": {
      "application/vnd.jupyter.widget-view+json": {
       "model_id": "9b710b18462645fdb8c7f4e1c81cd746",
       "version_major": 2,
       "version_minor": 0
      },
      "text/plain": [
       "  0%|          | 0/14233 [00:00<?, ?it/s]"
      ]
     },
     "metadata": {},
     "output_type": "display_data"
    },
    {
     "name": "stdout",
     "output_type": "stream",
     "text": [
      "{'image': <PIL.JpegImagePlugin.JpegImageFile image mode=RGB size=300x511 at 0x7F6EE2775F30>, 'prompt': 'What is the color of the writing on the wall?\\nA. black\\nB. red\\nC. white\\nD. blue', 'question': 'What is the color of the writing on the wall?', 'index': 14232, 'answer': 'C', 'options': 'A. black\\nB. red\\nC. white\\nD. blue'}\n",
      "Downloaded and saved all instances from seedbench.\n"
     ]
    },
    {
     "data": {
      "application/vnd.jupyter.widget-view+json": {
       "model_id": "564d6775decb476cbe7d1affb1078001",
       "version_major": 2,
       "version_minor": 0
      },
      "text/plain": [
       "  0%|          | 0/12032 [00:00<?, ?it/s]"
      ]
     },
     "metadata": {},
     "output_type": "display_data"
    },
    {
     "name": "stdout",
     "output_type": "stream",
     "text": [
      "{'prompt': 'The frequency range of a commercially broadcast FM signal is 88 to 108 MHz, with carrier swing of 125 kHz. Find the percentage modulation of the signal.\\nA. 110%\\nB. 125%\\nC. 50%\\nD. 62.5%\\nE. 75%\\nF. 83.3%\\nG. 93.8%\\nH. 57.1%\\nI. 100%\\nJ. 90%\\n', 'ind': 12031, 'answer': 'F', 'options': array(['110%', '125%', '50%', '62.5%', '75%', '83.3%', '93.8%', '57.1%',\n",
      "       '100%', '90%'], dtype=object), 'question': 'The frequency range of a commercially broadcast FM signal is 88 to 108 MHz, with carrier swing of 125 kHz. Find the percentage modulation of the signal.', 'image': None}\n",
      "Downloaded and saved all instances from mmlu_pro.\n"
     ]
    }
   ],
   "source": [
    "for dsetname in _DSET_DICT:\n",
    "    dset = _DSET_DICT[dsetname]()\n",
    "    for x in tqdm(dset):\n",
    "        continue\n",
    "    print(x)\n",
    "    print(f'Downloaded and saved all instances from {dsetname}.')"
   ]
  },
  {
   "cell_type": "markdown",
   "metadata": {},
   "source": [
    "## Loading Annotations (rationales, localized skills, and skill-slices)"
   ]
  },
  {
   "cell_type": "markdown",
   "metadata": {},
   "source": [
    "### Rationales"
   ]
  },
  {
   "cell_type": "markdown",
   "metadata": {},
   "source": [
    "All localized skills are parsed from rationales generated per evaluation instance. To inspect the rationales directly, you may use `an.get_rationales(dsetname)`, as follows:"
   ]
  },
  {
   "cell_type": "code",
   "execution_count": 4,
   "metadata": {},
   "outputs": [
    {
     "data": {
      "text/html": [
       "<div>\n",
       "<style scoped>\n",
       "    .dataframe tbody tr th:only-of-type {\n",
       "        vertical-align: middle;\n",
       "    }\n",
       "\n",
       "    .dataframe tbody tr th {\n",
       "        vertical-align: top;\n",
       "    }\n",
       "\n",
       "    .dataframe thead th {\n",
       "        text-align: right;\n",
       "    }\n",
       "</style>\n",
       "<table border=\"1\" class=\"dataframe\">\n",
       "  <thead>\n",
       "    <tr style=\"text-align: right;\">\n",
       "      <th></th>\n",
       "      <th>question_ind</th>\n",
       "      <th>response</th>\n",
       "      <th>system_message</th>\n",
       "      <th>question</th>\n",
       "      <th>answer</th>\n",
       "      <th>id</th>\n",
       "    </tr>\n",
       "  </thead>\n",
       "  <tbody>\n",
       "    <tr>\n",
       "      <th>0</th>\n",
       "      <td>0</td>\n",
       "      <td>1. **Step 1: Identify Required Information**\\n...</td>\n",
       "      <td>**System Prompt: Detailed Step-by-Step Respons...</td>\n",
       "      <td>&lt;image 1&gt; Baxter Company has a relevant range ...</td>\n",
       "      <td>B</td>\n",
       "      <td>mmmu__0</td>\n",
       "    </tr>\n",
       "    <tr>\n",
       "      <th>1</th>\n",
       "      <td>1</td>\n",
       "      <td>To solve for the missing Dividends balance, we...</td>\n",
       "      <td>**System Prompt: Detailed Step-by-Step Respons...</td>\n",
       "      <td>Assume accounts have normal balances, solve fo...</td>\n",
       "      <td>C</td>\n",
       "      <td>mmmu__1</td>\n",
       "    </tr>\n",
       "    <tr>\n",
       "      <th>2</th>\n",
       "      <td>2</td>\n",
       "      <td>To determine which project should be chosen us...</td>\n",
       "      <td>**System Prompt: Detailed Step-by-Step Respons...</td>\n",
       "      <td>Maxwell Software, Inc., has the following mutu...</td>\n",
       "      <td>B</td>\n",
       "      <td>mmmu__2</td>\n",
       "    </tr>\n",
       "    <tr>\n",
       "      <th>3</th>\n",
       "      <td>3</td>\n",
       "      <td>To calculate the missing values for Company 2,...</td>\n",
       "      <td>**System Prompt: Detailed Step-by-Step Respons...</td>\n",
       "      <td>Each situation below relates to an independent...</td>\n",
       "      <td>D</td>\n",
       "      <td>mmmu__3</td>\n",
       "    </tr>\n",
       "    <tr>\n",
       "      <th>4</th>\n",
       "      <td>4</td>\n",
       "      <td>To solve for the equivalent units for conversi...</td>\n",
       "      <td>**System Prompt: Detailed Step-by-Step Respons...</td>\n",
       "      <td>The following data show the units in beginning...</td>\n",
       "      <td>B</td>\n",
       "      <td>mmmu__4</td>\n",
       "    </tr>\n",
       "    <tr>\n",
       "      <th>...</th>\n",
       "      <td>...</td>\n",
       "      <td>...</td>\n",
       "      <td>...</td>\n",
       "      <td>...</td>\n",
       "      <td>...</td>\n",
       "      <td>...</td>\n",
       "    </tr>\n",
       "    <tr>\n",
       "      <th>895</th>\n",
       "      <td>895</td>\n",
       "      <td>1. **Step 1: Recognize the Type of Image**\\n  ...</td>\n",
       "      <td>**System Prompt: Detailed Step-by-Step Respons...</td>\n",
       "      <td>As shown in &lt;image 1&gt;, the fact that your cell...</td>\n",
       "      <td>D</td>\n",
       "      <td>mmmu__895</td>\n",
       "    </tr>\n",
       "    <tr>\n",
       "      <th>896</th>\n",
       "      <td>896</td>\n",
       "      <td>1. **Step 1: Recognize the Type of Image**\\n  ...</td>\n",
       "      <td>**System Prompt: Detailed Step-by-Step Respons...</td>\n",
       "      <td>The racial term &lt;image 1&gt; can refer to ____. ...</td>\n",
       "      <td>D</td>\n",
       "      <td>mmmu__896</td>\n",
       "    </tr>\n",
       "    <tr>\n",
       "      <th>897</th>\n",
       "      <td>897</td>\n",
       "      <td>1. **Step 1: Analyze the Image for Group Activ...</td>\n",
       "      <td>**System Prompt: Detailed Step-by-Step Respons...</td>\n",
       "      <td>Some controversial groups that may be mislabel...</td>\n",
       "      <td>A</td>\n",
       "      <td>mmmu__897</td>\n",
       "    </tr>\n",
       "    <tr>\n",
       "      <th>898</th>\n",
       "      <td>898</td>\n",
       "      <td>1. **Step 1: Recognize the Chart**\\n   - **Ski...</td>\n",
       "      <td>**System Prompt: Detailed Step-by-Step Respons...</td>\n",
       "      <td>Which statement represents stratification from...</td>\n",
       "      <td>B</td>\n",
       "      <td>mmmu__898</td>\n",
       "    </tr>\n",
       "    <tr>\n",
       "      <th>899</th>\n",
       "      <td>899</td>\n",
       "      <td>1. **Step 1: Recognize the Type of Image**\\n  ...</td>\n",
       "      <td>**System Prompt: Detailed Step-by-Step Respons...</td>\n",
       "      <td>Who found evidence that &lt;image 1&gt; has been nor...</td>\n",
       "      <td>E</td>\n",
       "      <td>mmmu__899</td>\n",
       "    </tr>\n",
       "  </tbody>\n",
       "</table>\n",
       "<p>900 rows × 6 columns</p>\n",
       "</div>"
      ],
      "text/plain": [
       "     question_ind                                           response  \\\n",
       "0               0  1. **Step 1: Identify Required Information**\\n...   \n",
       "1               1  To solve for the missing Dividends balance, we...   \n",
       "2               2  To determine which project should be chosen us...   \n",
       "3               3  To calculate the missing values for Company 2,...   \n",
       "4               4  To solve for the equivalent units for conversi...   \n",
       "..            ...                                                ...   \n",
       "895           895  1. **Step 1: Recognize the Type of Image**\\n  ...   \n",
       "896           896  1. **Step 1: Recognize the Type of Image**\\n  ...   \n",
       "897           897  1. **Step 1: Analyze the Image for Group Activ...   \n",
       "898           898  1. **Step 1: Recognize the Chart**\\n   - **Ski...   \n",
       "899           899  1. **Step 1: Recognize the Type of Image**\\n  ...   \n",
       "\n",
       "                                        system_message  \\\n",
       "0    **System Prompt: Detailed Step-by-Step Respons...   \n",
       "1    **System Prompt: Detailed Step-by-Step Respons...   \n",
       "2    **System Prompt: Detailed Step-by-Step Respons...   \n",
       "3    **System Prompt: Detailed Step-by-Step Respons...   \n",
       "4    **System Prompt: Detailed Step-by-Step Respons...   \n",
       "..                                                 ...   \n",
       "895  **System Prompt: Detailed Step-by-Step Respons...   \n",
       "896  **System Prompt: Detailed Step-by-Step Respons...   \n",
       "897  **System Prompt: Detailed Step-by-Step Respons...   \n",
       "898  **System Prompt: Detailed Step-by-Step Respons...   \n",
       "899  **System Prompt: Detailed Step-by-Step Respons...   \n",
       "\n",
       "                                              question answer         id  \n",
       "0    <image 1> Baxter Company has a relevant range ...      B    mmmu__0  \n",
       "1    Assume accounts have normal balances, solve fo...      C    mmmu__1  \n",
       "2    Maxwell Software, Inc., has the following mutu...      B    mmmu__2  \n",
       "3    Each situation below relates to an independent...      D    mmmu__3  \n",
       "4    The following data show the units in beginning...      B    mmmu__4  \n",
       "..                                                 ...    ...        ...  \n",
       "895  As shown in <image 1>, the fact that your cell...      D  mmmu__895  \n",
       "896   The racial term <image 1> can refer to ____. ...      D  mmmu__896  \n",
       "897  Some controversial groups that may be mislabel...      A  mmmu__897  \n",
       "898  Which statement represents stratification from...      B  mmmu__898  \n",
       "899  Who found evidence that <image 1> has been nor...      E  mmmu__899  \n",
       "\n",
       "[900 rows x 6 columns]"
      ]
     },
     "execution_count": 4,
     "metadata": {},
     "output_type": "execute_result"
    }
   ],
   "source": [
    "rationales_df = an.get_rationales('mmmu')\n",
    "rationales_df"
   ]
  },
  {
   "cell_type": "markdown",
   "metadata": {},
   "source": [
    "Let's take a look at a sample from MMMU and its rationale."
   ]
  },
  {
   "cell_type": "code",
   "execution_count": 5,
   "metadata": {},
   "outputs": [
    {
     "name": "stderr",
     "output_type": "stream",
     "text": [
      "100%|███████████████████████████████████████████████████████████████████████████████████████████████████████████████████████████████████| 30/30 [00:35<00:00,  1.18s/it]"
     ]
    },
    {
     "name": "stdout",
     "output_type": "stream",
     "text": [
      "QUESTION:\n",
      " <image 1> Baxter Company has a relevant range of production between 15,000 and 30,000 units. The following cost data represents average variable costs per unit for 25,000 units of production. If 30,000 units are produced, what are the per unit manufacturing overhead costs incurred?\n",
      "A $6\n",
      "B $7\n",
      "C $8\n",
      "D $9\n",
      "\n",
      "\n",
      "IMAGE:\n",
      "\n"
     ]
    },
    {
     "name": "stderr",
     "output_type": "stream",
     "text": [
      "\n"
     ]
    },
    {
     "data": {
      "image/jpeg": "[encoded data removed]",
      "image/png": "[encoded data removed]",
      "text/plain": [
       "<PIL.JpegImagePlugin.JpegImageFile image mode=RGB size=733x237>"
      ]
     },
     "metadata": {},
     "output_type": "display_data"
    },
    {
     "name": "stdout",
     "output_type": "stream",
     "text": [
      "\n",
      "\n",
      "RATIONALE:\n",
      " 1. **Step 1: Identify Required Information**\n",
      "   - **Skill:** Knowledge: Reading Comprehension, Identifying relevant data\n",
      "   - **Evidence:** The question asks for per unit manufacturing overhead costs when 30,000 units are produced. It provides cost data for 25,000 units and specifies variable costs.\n",
      "   - **Conclusion:** I need to find how variable manufacturing overhead per unit changes with an increase in production to 30,000 units.\n",
      "\n",
      "2. **Step 2: Identify Variable Manufacturing Overhead Costs**\n",
      "   - **Skill:** Perception: Data Extraction, Cost Identification\n",
      "   - **Evidence:** The table lists Variable Manufacturing Overhead as $2 per unit.\n",
      "   - **Conclusion:** The Variable Manufacturing Overhead cost is $2 per unit at 25,000 units.\n",
      "\n",
      "3. **Step 3: Determine if Variable Costs Change With Production Level Changes**\n",
      "   - **Skill:** Knowledge: Cost Accounting, Understanding variable costs behavior\n",
      "   - **Evidence:** Variable costs per unit stay the same regardless of the production levels within the relevant range.\n",
      "   - **Conclusion:** The per-unit variable manufacturing overhead cost will remain $2 even if production increases to 30,000 units.\n",
      "\n",
      "4. **Step 4: Determine Fixed Manufacturing Overhead Per Unit**\n",
      "   - **Skill:** Knowledge: Cost Accounting, Fixed cost behavior\n",
      "   - **Evidence:** Fixed manufacturing overhead ($6 per unit) will be spread over more units as production increases.\n",
      "   - **Conclusion:** The fixed manufacturing overhead per unit decreases as production increases due to the spreading effect.\n",
      "\n",
      "5. **Step 5: Calculate Fixed Manufacturing Overhead Per Unit at New Production Level**\n",
      "   - **Skill:** Mathematical Calculation, Division\n",
      "   - **Evidence:** Total fixed manufacturing overhead cost for 25,000 units is $6 * 25,000 units = $150,000.\n",
      "   - **Conclusion:** Total fixed manufacturing overhead cost is $150,000 regardless of units produced.\n",
      "\n",
      "6. **Step 6: Calculate New Per Unit Fixed Manufacturing Overhead Cost**\n",
      "   - **Skill:** Mathematical Calculation, Division\n",
      "   - **Evidence:** At 30,000 units, the fixed overhead per unit is $150,000 / 30,000 units.\n",
      "   - **Conclusion:** New per unit fixed manufacturing overhead = $150,000 / 30,000 = $5.\n",
      "\n",
      "7. **Step 7: Compute Total Per Unit Manufacturing Overhead at 30,000 Units**\n",
      "   - **Skill:** Mathematical Calculation, Addition\n",
      "   - **Evidence:** Variable Manufacturing Overhead = $2; Fixed Manufacturing Overhead = $5.\n",
      "   - **Conclusion:** Total per unit manufacturing overhead cost at 30,000 units = $2 + $5 = $7.\n",
      "\n",
      "**Final Conclusion:** The per unit manufacturing overhead costs incurred at 30,000 units is $7. \n",
      "\n",
      "**Answer:** B $7\n"
     ]
    }
   ],
   "source": [
    "dset = _DSET_DICT['mmmu']()\n",
    "rationales_df = rationales_df.set_index('question_ind')\n",
    "ind = 0\n",
    "q = dset[ind]\n",
    "print('QUESTION:\\n', q['prompt'])\n",
    "print('\\n\\nIMAGE:\\n')\n",
    "display(q['image'])\n",
    "print('\\n\\nRATIONALE:\\n', rationales_df.loc[ind]['response'])"
   ]
  },
  {
   "cell_type": "markdown",
   "metadata": {},
   "source": [
    "### Localized Skills"
   ]
  },
  {
   "cell_type": "markdown",
   "metadata": {},
   "source": [
    "Each parsed skill is 'localized' to a ratinoale span -- we use this to form probing questions to isolate individual skills. Localized skills can be obtained with `an.parse_skills_and_spans(dsetname)`. That dataframe can then be consolidated to obtain skills per question, if that is of interest."
   ]
  },
  {
   "cell_type": "code",
   "execution_count": 6,
   "metadata": {},
   "outputs": [
    {
     "data": {
      "text/html": [
       "<div>\n",
       "<style scoped>\n",
       "    .dataframe tbody tr th:only-of-type {\n",
       "        vertical-align: middle;\n",
       "    }\n",
       "\n",
       "    .dataframe tbody tr th {\n",
       "        vertical-align: top;\n",
       "    }\n",
       "\n",
       "    .dataframe thead th {\n",
       "        text-align: right;\n",
       "    }\n",
       "</style>\n",
       "<table border=\"1\" class=\"dataframe\">\n",
       "  <thead>\n",
       "    <tr style=\"text-align: right;\">\n",
       "      <th></th>\n",
       "      <th>skill</th>\n",
       "      <th>question_ind</th>\n",
       "      <th>span_start</th>\n",
       "      <th>span_end</th>\n",
       "      <th>span</th>\n",
       "      <th>id</th>\n",
       "    </tr>\n",
       "  </thead>\n",
       "  <tbody>\n",
       "    <tr>\n",
       "      <th>0</th>\n",
       "      <td>knowledge</td>\n",
       "      <td>0</td>\n",
       "      <td>0</td>\n",
       "      <td>437</td>\n",
       "      <td>1. **step 1: identify required information**\\n...</td>\n",
       "      <td>mmmu__0</td>\n",
       "    </tr>\n",
       "    <tr>\n",
       "      <th>1</th>\n",
       "      <td>reading comprehension</td>\n",
       "      <td>0</td>\n",
       "      <td>0</td>\n",
       "      <td>437</td>\n",
       "      <td>1. **step 1: identify required information**\\n...</td>\n",
       "      <td>mmmu__0</td>\n",
       "    </tr>\n",
       "    <tr>\n",
       "      <th>2</th>\n",
       "      <td>identifying relevant data</td>\n",
       "      <td>0</td>\n",
       "      <td>0</td>\n",
       "      <td>437</td>\n",
       "      <td>1. **step 1: identify required information**\\n...</td>\n",
       "      <td>mmmu__0</td>\n",
       "    </tr>\n",
       "    <tr>\n",
       "      <th>3</th>\n",
       "      <td>perception</td>\n",
       "      <td>0</td>\n",
       "      <td>439</td>\n",
       "      <td>742</td>\n",
       "      <td>2. **step 2: identify variable manufacturing o...</td>\n",
       "      <td>mmmu__0</td>\n",
       "    </tr>\n",
       "    <tr>\n",
       "      <th>4</th>\n",
       "      <td>data extraction</td>\n",
       "      <td>0</td>\n",
       "      <td>439</td>\n",
       "      <td>742</td>\n",
       "      <td>2. **step 2: identify variable manufacturing o...</td>\n",
       "      <td>mmmu__0</td>\n",
       "    </tr>\n",
       "    <tr>\n",
       "      <th>...</th>\n",
       "      <td>...</td>\n",
       "      <td>...</td>\n",
       "      <td>...</td>\n",
       "      <td>...</td>\n",
       "      <td>...</td>\n",
       "      <td>...</td>\n",
       "    </tr>\n",
       "    <tr>\n",
       "      <th>14798</th>\n",
       "      <td>sociological studies on divorce normalization</td>\n",
       "      <td>899</td>\n",
       "      <td>1037</td>\n",
       "      <td>1472</td>\n",
       "      <td>4. **step 4: connect given names to relevant r...</td>\n",
       "      <td>mmmu__899</td>\n",
       "    </tr>\n",
       "    <tr>\n",
       "      <th>14799</th>\n",
       "      <td>knowledge</td>\n",
       "      <td>899</td>\n",
       "      <td>1474</td>\n",
       "      <td>1884</td>\n",
       "      <td>5. **step 5: identify the correct researcher(s...</td>\n",
       "      <td>mmmu__899</td>\n",
       "    </tr>\n",
       "    <tr>\n",
       "      <th>14800</th>\n",
       "      <td>sociological research</td>\n",
       "      <td>899</td>\n",
       "      <td>1474</td>\n",
       "      <td>1884</td>\n",
       "      <td>5. **step 5: identify the correct researcher(s...</td>\n",
       "      <td>mmmu__899</td>\n",
       "    </tr>\n",
       "    <tr>\n",
       "      <th>14801</th>\n",
       "      <td>known studies</td>\n",
       "      <td>899</td>\n",
       "      <td>1474</td>\n",
       "      <td>1884</td>\n",
       "      <td>5. **step 5: identify the correct researcher(s...</td>\n",
       "      <td>mmmu__899</td>\n",
       "    </tr>\n",
       "    <tr>\n",
       "      <th>14802</th>\n",
       "      <td>relevant scholars</td>\n",
       "      <td>899</td>\n",
       "      <td>1474</td>\n",
       "      <td>1884</td>\n",
       "      <td>5. **step 5: identify the correct researcher(s...</td>\n",
       "      <td>mmmu__899</td>\n",
       "    </tr>\n",
       "  </tbody>\n",
       "</table>\n",
       "<p>14803 rows × 6 columns</p>\n",
       "</div>"
      ],
      "text/plain": [
       "                                               skill  question_ind  \\\n",
       "0                                          knowledge             0   \n",
       "1                              reading comprehension             0   \n",
       "2                          identifying relevant data             0   \n",
       "3                                         perception             0   \n",
       "4                                    data extraction             0   \n",
       "...                                              ...           ...   \n",
       "14798  sociological studies on divorce normalization           899   \n",
       "14799                                      knowledge           899   \n",
       "14800                          sociological research           899   \n",
       "14801                                  known studies           899   \n",
       "14802                              relevant scholars           899   \n",
       "\n",
       "       span_start  span_end  \\\n",
       "0               0       437   \n",
       "1               0       437   \n",
       "2               0       437   \n",
       "3             439       742   \n",
       "4             439       742   \n",
       "...           ...       ...   \n",
       "14798        1037      1472   \n",
       "14799        1474      1884   \n",
       "14800        1474      1884   \n",
       "14801        1474      1884   \n",
       "14802        1474      1884   \n",
       "\n",
       "                                                    span         id  \n",
       "0      1. **step 1: identify required information**\\n...    mmmu__0  \n",
       "1      1. **step 1: identify required information**\\n...    mmmu__0  \n",
       "2      1. **step 1: identify required information**\\n...    mmmu__0  \n",
       "3      2. **step 2: identify variable manufacturing o...    mmmu__0  \n",
       "4      2. **step 2: identify variable manufacturing o...    mmmu__0  \n",
       "...                                                  ...        ...  \n",
       "14798  4. **step 4: connect given names to relevant r...  mmmu__899  \n",
       "14799  5. **step 5: identify the correct researcher(s...  mmmu__899  \n",
       "14800  5. **step 5: identify the correct researcher(s...  mmmu__899  \n",
       "14801  5. **step 5: identify the correct researcher(s...  mmmu__899  \n",
       "14802  5. **step 5: identify the correct researcher(s...  mmmu__899  \n",
       "\n",
       "[14803 rows x 6 columns]"
      ]
     },
     "execution_count": 6,
     "metadata": {},
     "output_type": "execute_result"
    }
   ],
   "source": [
    "skills_df = an.parse_skills_and_spans('mmmu')\n",
    "skills_df"
   ]
  },
  {
   "cell_type": "code",
   "execution_count": 7,
   "metadata": {},
   "outputs": [
    {
     "name": "stdout",
     "output_type": "stream",
     "text": [
      "Skill: cost identification\n",
      "Corresponding span in rationale where skill is applied:\n",
      " 2. **step 2: identify variable manufacturing overhead costs**\n",
      "   - **skill:** perception: data extraction, cost identification\n",
      "   - **evidence:** the table lists variable manufacturing overhead as $2 per unit.\n",
      "   - **conclusion:** the variable manufacturing overhead cost is $2 per unit at 25,000 units.\n"
     ]
    }
   ],
   "source": [
    "row = skills_df.iloc[5]\n",
    "print(f\"Skill: {row.skill}\")\n",
    "print(\"Corresponding span in rationale where skill is applied:\\n\", row.span)"
   ]
  },
  {
   "cell_type": "markdown",
   "metadata": {},
   "source": [
    "A probing question for the given step above would be something like \"What is the varaible manufacturing overhead cost per unit?\", forcing the model to just perform the skill of reading the table in the image to identify the appropriate cost. You can look into the function gen_probe_qs_for_skill in pipeline.py for more details.\n",
    "\n",
    "To just get all skills per question, you can do the following:"
   ]
  },
  {
   "cell_type": "code",
   "execution_count": 8,
   "metadata": {},
   "outputs": [
    {
     "data": {
      "text/plain": [
       "['fixed cost behavior',\n",
       " 'identifying relevant data',\n",
       " 'cost accounting',\n",
       " 'data extraction',\n",
       " 'understanding variable costs behavior',\n",
       " 'knowledge',\n",
       " 'division',\n",
       " 'addition',\n",
       " 'cost identification',\n",
       " 'perception',\n",
       " 'mathematical calculation',\n",
       " 'reading comprehension']"
      ]
     },
     "execution_count": 8,
     "metadata": {},
     "output_type": "execute_result"
    }
   ],
   "source": [
    "skills_by_q = skills_df.groupby('question_ind').apply(lambda sub_df: list(set(sub_df.skill)), include_groups=False)\n",
    "skills_by_q.loc[0]"
   ]
  },
  {
   "cell_type": "markdown",
   "metadata": {},
   "source": [
    "### Skill-slices"
   ]
  },
  {
   "cell_type": "markdown",
   "metadata": {},
   "source": [
    "Skill-slices are formed by deduplicating skill names and grouping instances across benchmarks based on the skill they test. To access pre-computed skill-slices, you can use the `get_clusters` command from analysis.py."
   ]
  },
  {
   "cell_type": "code",
   "execution_count": 4,
   "metadata": {},
   "outputs": [],
   "source": [
    "from analysis import get_cluster_info\n",
    "\n",
    "qs_by_cluster, skills_by_cluster, skills_df = get_cluster_info()"
   ]
  },
  {
   "cell_type": "markdown",
   "metadata": {},
   "source": [
    "By default, `get_cluster_info` returns skill-slices formed over all 12 benchmarks from our original paper. `qs_by_cluster` is a dictionary with a list of evaluation instances per skill cluster, and `skills_by_cluster` records which skills were consolidated during deduplication. Let's take a look at (computing) 'molar mass' -- a skill featured in figure 1 of our paper."
   ]
  },
  {
   "cell_type": "code",
   "execution_count": 10,
   "metadata": {},
   "outputs": [
    {
     "name": "stdout",
     "output_type": "stream",
     "text": [
      "Number of instances in 'molar mass' slice: 151\n",
      "Example instances:  ['mmlu_pro__3741', 'mmlu_pro__3812', 'mmlu_pro__3887', 'mmlu_pro__3993', 'mmlu_pro__11976', 'mmlu_pro__4261', 'mmlu_pro__9190', 'mmlu_pro__4008', 'mmlu_pro__4271', 'mmlu_pro__4306']\n",
      "\n",
      "\n",
      "EXAMPLE INSTANCE: What volume (in liters) will a 0.17 g sample of H_2S gas occupy at 27°C and 380torr?\n",
      "A. 2.50 liters\n",
      "B. 34.06 liter\n",
      "C. 0.005 liter\n",
      "D. 0.100 liter\n",
      "E. 0.500 liter\n",
      "F. 1.00 liter\n",
      "G. 0.246 liter\n",
      "H. 5.00 liters\n",
      "I. 0.030 liter\n",
      "J. 0.750 liter\n",
      "\n"
     ]
    }
   ],
   "source": [
    "skill = 'molar mass'\n",
    "print(f\"Number of instances in '{skill}' slice: {len(qs_by_cluster[skill])}\")\n",
    "print(\"Example instances: \", qs_by_cluster[skill][:10])\n",
    "\n",
    "eg_instance = qs_by_cluster[skill][0]\n",
    "dsetname, q_ind = eg_instance.split('__')\n",
    "dset = _DSET_DICT[dsetname]()\n",
    "q = dset[int(q_ind)]\n",
    "print('\\n\\nEXAMPLE INSTANCE:', q['prompt'])"
   ]
  },
  {
   "cell_type": "markdown",
   "metadata": {},
   "source": [
    "Now let's take a closer look at the cluster of skills that define this slice. You can see that the clustering we perform is quite tight, primarily to deduplicate slight paraphrasings of the same skill."
   ]
  },
  {
   "cell_type": "code",
   "execution_count": 11,
   "metadata": {},
   "outputs": [
    {
     "data": {
      "text/plain": [
       "['molar mass',\n",
       " 'molar masses',\n",
       " 'and molar mass',\n",
       " 'using molar mass',\n",
       " 'molar mass calculations',\n",
       " 'molar mass calculation',\n",
       " 'molar mass computation',\n",
       " 'molar mass knowledge',\n",
       " 'molar mass understanding',\n",
       " 'application of molar mass',\n",
       " 'molar mass application',\n",
       " 'molar mass usage',\n",
       " 'calculation of molar mass',\n",
       " 'molecular mass',\n",
       " 'molar mass of compounds',\n",
       " 'understanding molar mass',\n",
       " 'molar mass conversion',\n",
       " 'molar mass determination',\n",
       " 'chemical molar mass computation',\n",
       " 'molar mass identification',\n",
       " 'moles and molar mass calculations',\n",
       " 'elemental molar masses',\n",
       " 'molar mass understanding and use.',\n",
       " 'mass calculation using molar mass',\n",
       " 'molar mass recognition',\n",
       " 'molar mass involvement',\n",
       " 'molar weight calculation',\n",
       " 'molar masses of elements',\n",
       " 'molecular weight',\n",
       " 'molar mass calculation of compounds']"
      ]
     },
     "execution_count": 11,
     "metadata": {},
     "output_type": "execute_result"
    }
   ],
   "source": [
    "skills_by_cluster[skill]"
   ]
  },
  {
   "cell_type": "markdown",
   "metadata": {},
   "source": [
    "Unless you know how to solve this chemistry problem, it may not be immediately obvious that '(computing) molar mass' is a relevant skill here. However, the relevant skills become apparent when inspecting the rationale."
   ]
  },
  {
   "cell_type": "code",
   "execution_count": 12,
   "metadata": {},
   "outputs": [
    {
     "name": "stdout",
     "output_type": "stream",
     "text": [
      "**Step 1: Convert Mass to Moles**\n",
      "   - **Skill:** Knowledge: Chemistry, Stoichiometry, Molar Mass Calculation\n",
      "   - **Evidence:** The molar mass of H₂S (Hydrogen Sulfide) is calculated by summing the masses of its atoms: \n",
      "     - Hydrogen (H) has a molar mass of approximately 1 g/mol, and there are 2 atoms of H in H₂S.\n",
      "     - Sulfur (S) has a molar mass of approximately 32 g/mol.\n",
      "     - Total molar mass of H₂S = 2(1) + 32 = 34 g/mol.\n",
      "   - **Conclusion:** The molar mass of H₂S is 34 g/mol.\n",
      "\n",
      "**Step 2: Calculate Moles of H₂S**\n",
      "   - **Skill:** Reasoning: Mathematical Calculation, Stoichiometry\n",
      "   - **Evidence:** The given mass of H₂S is 0.17 g.\n",
      "   - **Calculation:** Moles of H₂S = mass / molar mass = 0.17 g / 34 g/mol\n",
      "   - **Conclusion:** Moles of H₂S = 0.005 mol\n",
      "\n",
      "**Step 3: Convert Temperature to Kelvin**\n",
      "   - **Skill:** Knowledge: Chemistry, Thermodynamics, Temperature Conversion\n",
      "   - **Evidence:** The given temperature is 27°C.\n",
      "   - **Calculation:** Temperature in Kelvin = 27 + 273.15\n",
      "   - **Conclusion:** Temperature in Kelvin = 300.15 K\n",
      "\n",
      "**Step 4: Convert Pressure to Atmospheres**\n",
      "   - **Skill:** Knowledge: Chemistry, Unit Conversion, Pressure Units\n",
      "   - **Evidence:** The given pressure is 380 torr.\n",
      "   - **Calculation:** Pressure in atm = 380 torr / 760 torr/atm\n",
      "   - **Conclusion:** Pressure in atm = 0.5 atm\n",
      "\n",
      "**Step 5: Apply Ideal Gas Law**\n",
      "   - **Skill:** Knowledge: Chemistry, Gas Laws, Ideal Gas Law Application\n",
      "   - **Evidence:** Ideal Gas Law is PV = nRT, where\n",
      "     - P = pressure in atm (0.5 atm)\n",
      "     - V = volume in liters (unknown)\n",
      "     - n = moles of gas (0.005 mol)\n",
      "     - R = ideal gas constant (0.0821 L·atm/K·mol)\n",
      "     - T = temperature in Kelvin (300.15 K)\n",
      "   - **Calculation:** V = nRT / P\n",
      "     - V = (0.005 mol) * (0.0821 L·atm/K·mol) * (300.15 K) / (0.5 atm)\n",
      "     - V ≈ (0.005) * (24.630415) / (0.5)\n",
      "     - V ≈ 0.123152075 / 0.5\n",
      "     - V ≈ 0.24630415 liters\n",
      "   - **Conclusion:** The volume of the H₂S gas is approximately 0.246 liters\n",
      "\n",
      "**Step 6: Match with Given Options**\n",
      "   - **Skill:** Perception: Visual Recognition, Option Matching\n",
      "   - **Evidence:** The closest provided option to 0.246 liters is option (G).\n",
      "   - **Conclusion:** The correct answer is option (G). \n",
      "\n",
      "ANSWER: G\n"
     ]
    }
   ],
   "source": [
    "rationales_df = an.get_rationales(dsetname)\n",
    "rationales_df = rationales_df.set_index('question_ind')\n",
    "print(rationales_df.loc[int(q_ind)].response)"
   ]
  },
  {
   "cell_type": "markdown",
   "metadata": {},
   "source": [
    "Before moving on, we'll take a look at how many skill slices we have. There are over 60k, but when we restrict ourselves to slices with at least 100 instances (as we did in the paper), we are left with 332. Note that the 100 instance threshold was somewhat arbitrary, and can be adjusted as desired."
   ]
  },
  {
   "cell_type": "code",
   "execution_count": 13,
   "metadata": {},
   "outputs": [
    {
     "name": "stdout",
     "output_type": "stream",
     "text": [
      "Number of clusters: 64559. Number of clusters with at least 100 instances: 332\n"
     ]
    }
   ],
   "source": [
    "import numpy as np\n",
    "cluster_sizes = np.array([len(qs) for skill, qs in qs_by_cluster.items()])\n",
    "print(f'Number of clusters: {len(cluster_sizes)}. Number of clusters with at least 100 instances: {sum(cluster_sizes >= 100)}') "
   ]
  },
  {
   "cell_type": "markdown",
   "metadata": {},
   "source": [
    "## Navigating skill slices\n",
    "\n",
    "Even when restricting ourselves to the 332 slices with at least 100 instances, it can still be cumbersome to read over the hundreds of slice names. One way to make this easier is to simply search for the most similar skill-slice to a skill of interest. We show an example for the query skill 'reading bar charts' below. \n",
    "\n",
    "Note that we share cached embeddings for skill names using a SFR embedding model, but you'll need to embed the query skill name as well. The model we use will require a GPU with at least 48 gb memory, but you can use a smaller text embedder if you'd like. "
   ]
  },
  {
   "cell_type": "code",
   "execution_count": null,
   "metadata": {},
   "outputs": [
    {
     "data": {
      "application/vnd.jupyter.widget-view+json": {
       "model_id": "5f46d7adc49546c2837f46a34f28b54c",
       "version_major": 2,
       "version_minor": 0
      },
      "text/plain": [
       "Loading checkpoint shards:   0%|          | 0/3 [00:00<?, ?it/s]"
      ]
     },
     "metadata": {},
     "output_type": "display_data"
    }
   ],
   "source": [
    "query_skill = 'reading bar charts'\n",
    "query_vec = an.embed_strs([query_skill])[0]\n",
    "skills_df, skills_list, skills_vecs = an.build_skillset()\n",
    "\n",
    "skill_to_ind = {s:i for i,s in enumerate(skills_list)}\n",
    "clust_names = [clust_name for clust_name, qs in qs_by_cluster.items() if len(qs) >= 100]\n",
    "clust_idx = [skill_to_ind[x] for x in clust_names]\n",
    "clust_vecs = skills_vecs[clust_idx]\n",
    "\n",
    "sims = clust_vecs @ query_vec\n",
    "print(\"Most similar skill-slices: \")\n",
    "print(\"\\n\".join([f\"{clust_names[x].title()}: {len(qs_by_cluster[clust_names[x]])} questions in slice\" for x in sims.topk(5).indices]))"
   ]
  },
  {
   "cell_type": "markdown",
   "metadata": {},
   "source": [
    "## Skill-based retrieval (e.g. searching for a specific skill)\n",
    "\n",
    "We have implemented a method to retrieve evaluation instances based on a specific skill of interest. Notably, this search is open vocabulary."
   ]
  },
  {
   "cell_type": "code",
   "execution_count": 13,
   "metadata": {},
   "outputs": [
    {
     "name": "stderr",
     "output_type": "stream",
     "text": [
      "100%|█████████████████████████████████████████████████████████████████████████████████████████████████████████████████████████████████████| 1/1 [00:00<00:00, 13.27it/s]\n"
     ]
    }
   ],
   "source": [
    "query_skill = 'reading music'\n",
    "ids = an.retrieve_by_query_skill(query_skill, num_to_return=20)"
   ]
  },
  {
   "cell_type": "code",
   "execution_count": 14,
   "metadata": {},
   "outputs": [
    {
     "data": {
      "text/plain": [
       "id\n",
       "mmmu__747          [treble clef recognition, matching with given ...\n",
       "mmtbench__2358     [symbol identification, treble clef and key si...\n",
       "mmmu__748          [interpreting answer choices, note reading, te...\n",
       "mmmu__727          [recognizing musical notes, combining informat...\n",
       "mmmu__742          [understanding note values, symbol identificat...\n",
       "mmmu__724          [note identification on the staff, g♭ major sc...\n",
       "mmmu__725          [understanding of rhythmic devices, rhythmic s...\n",
       "mmmu__729          [leading note recognition, symbol identificati...\n",
       "mmmu__737          [treble clef recognition, symbol identificatio...\n",
       "mmmu__745          [treble clef recognition, symbol identificatio...\n",
       "mmmu__736          [symbol identification, reasoning, scale ident...\n",
       "mmtbench__2367     [treble clef recognition, symbol identificatio...\n",
       "mmmu__720          [note value calculation, musical symbol identi...\n",
       "mmmu__722          [symbol identification, locating musical symbo...\n",
       "mmmu__734          [symbol identification, locating musical symbo...\n",
       "mmtbench__2365     [matching, clef identification, symbol identif...\n",
       "mmmu__733          [note position recognition, musical note ident...\n",
       "seedbench__6372    [musical instruments, understanding musical ac...\n",
       "seedbench__8217    [instrument technique, activity identification...\n",
       "mmmu__721          [treble clef recognition, pitch recognition, i...\n",
       "dtype: object"
      ]
     },
     "execution_count": 14,
     "metadata": {},
     "output_type": "execute_result"
    }
   ],
   "source": [
    "df = skills_df.groupby('id').apply(lambda sub_df: list(set(sub_df.skill)), include_groups=False)\n",
    "df.loc[ids]"
   ]
  },
  {
   "cell_type": "code",
   "execution_count": 19,
   "metadata": {},
   "outputs": [
    {
     "name": "stderr",
     "output_type": "stream",
     "text": [
      "100%|███████████████████████████████████████████████████████████████████████████████████████████████████████████████████████████████████| 30/30 [00:36<00:00,  1.23s/it]"
     ]
    },
    {
     "name": "stdout",
     "output_type": "stream",
     "text": [
      "QUESTION:\n",
      " Name the intervals. <image 1>\n",
      "A augmented 5th\n",
      "B minor 7th\n",
      "C major 6th\n",
      "D perfect 11th\n",
      "\n",
      "\n",
      "IMAGE:\n"
     ]
    },
    {
     "name": "stderr",
     "output_type": "stream",
     "text": [
      "\n"
     ]
    },
    {
     "data": {
      "image/jpeg": "[encoded data removed]",
      "image/png": "[encoded data removed]",
      "text/plain": [
       "<PIL.JpegImagePlugin.JpegImageFile image mode=RGB size=270x98>"
      ]
     },
     "metadata": {},
     "output_type": "display_data"
    },
    {
     "name": "stdout",
     "output_type": "stream",
     "text": [
      "\n",
      "Skills:\n",
      " - treble clef recognition\n",
      "- matching with given choices\n",
      "- reading sheet music\n",
      "- symbol identification\n",
      "- reasoning\n",
      "- knowledge\n",
      "- perception\n",
      "- image classification\n",
      "- understanding music theory terms\n",
      "- visual recognition\n",
      "- reading comprehension\n",
      "- note identification\n",
      "- music theory calculation\n",
      "- sheet music interpretation\n",
      "- logical deduction\n"
     ]
    }
   ],
   "source": [
    "dset = _DSET_DICT['mmmu']()\n",
    "q = dset[747]\n",
    "print('QUESTION:\\n', q['prompt'])\n",
    "print('\\n\\nIMAGE:')\n",
    "display(q['image'])\n",
    "print('\\nSkills:\\n', '- ' + '\\n- '.join(df.loc['mmmu__747']))"
   ]
  },
  {
   "cell_type": "markdown",
   "metadata": {},
   "source": [
    "## Implementing a new model under appropriate model class\n",
    "\n",
    "Each model must implement a `answer_question(question, system_message, image)` method:\n",
    "* Inputs:\n",
    "    * `question`: string, the question / prompt to the model for the specific evaluation instance\n",
    "    * `system_message`: string, the system message specifying the output format. Typically set to `_SYS_MSGS['standard_prompt']` (see constants.py).\n",
    "    * `image`: PIL Image, the image relevant to a given eval instance, or None in the case of a language only query.\n",
    "* Output: string response to the given question\n",
    "\n",
    "It must also have a field called modelname. This name is given to the directory where outputs from the model are cached.\n",
    "\n",
    "We'll now show how to go from a pretrained model hosted on huggingface to something we can feed to existing code in our repo. We begin with the [example inference code provided on huggingface](https://huggingface.co/Qwen/Qwen2-VL-7B-Instruct). Then, we move the model and tokenizer to the constructor for our model object, and place inference under `answer_question`. "
   ]
  },
  {
   "cell_type": "code",
   "execution_count": null,
   "metadata": {},
   "outputs": [],
   "source": [
    "from transformers import Qwen2VLForConditionalGeneration, AutoTokenizer, AutoProcessor\n",
    "from qwen_vl_utils import process_vision_info\n",
    "\n",
    "class QwenVL:\n",
    "    def __init__(self):\n",
    "        # default: Load the model on the available device(s)\n",
    "        self.model = Qwen2VLForConditionalGeneration.from_pretrained(\n",
    "            \"Qwen/Qwen2-VL-7B-Instruct\", torch_dtype=\"auto\", device_map=\"auto\"\n",
    "        )\n",
    "\n",
    "        self.processor = AutoProcessor.from_pretrained(\"Qwen/Qwen2-VL-7B-Instruct\")\n",
    "        self.modelname = 'Qwen2-VL-7B-Instruct'\n",
    "    \n",
    "    def answer_question(self, question, system_message, image):\n",
    "        ########### THIS IS THE ONLY CODE CHANGE WE NEEDED TO MODIFY THE EXAMPLE INFERENCE CODE ############\n",
    "        if image:\n",
    "            messages = [{\"role\":\"system\", \"content\": [{\"type\":\"text\", \"text\": system_message}]},\n",
    "                    {\"role\": \"user\", \"content\": [{\"type\":\"image\", \"image\": image}, {\"type\":\"text\", \"text\":question}]}]\n",
    "            image_inputs, video_inputs = process_vision_info(messages)\n",
    "        else:\n",
    "            messages = [{\"role\":\"system\", \"content\": [{\"type\":\"text\", \"text\": system_message}]},\n",
    "                    {\"role\": \"user\", \"content\": [{\"type\":\"text\", \"text\":question}]}] \n",
    "            image_inputs, video_inputs = None, None\n",
    "\n",
    "        ### Standard code from huggingface example inference docs: https://huggingface.co/Qwen/Qwen2-VL-7B-Instruct\n",
    "        text = self.processor.apply_chat_template(\n",
    "            messages, tokenize=False, add_generation_prompt=True\n",
    "        )\n",
    "        inputs = self.processor(\n",
    "            text=[text],\n",
    "            images=image_inputs,\n",
    "            videos=video_inputs,\n",
    "            padding=True,\n",
    "            return_tensors=\"pt\",\n",
    "        )\n",
    "        inputs = inputs.to(\"cuda\")\n",
    "\n",
    "        # Inference: Generation of the output\n",
    "        generated_ids = self.model.generate(**inputs, max_new_tokens=128)\n",
    "        generated_ids_trimmed = [\n",
    "            out_ids[len(in_ids) :] for in_ids, out_ids in zip(inputs.input_ids, generated_ids)\n",
    "        ]\n",
    "        output_text = self.processor.batch_decode(\n",
    "            generated_ids_trimmed, skip_special_tokens=True, clean_up_tokenization_spaces=False\n",
    "        )\n",
    "        return output_text[0]"
   ]
  },
  {
   "cell_type": "markdown",
   "metadata": {},
   "source": [
    "Let's go ahead and test this code by loading the model and evaluate it on a test sample."
   ]
  },
  {
   "cell_type": "code",
   "execution_count": null,
   "metadata": {},
   "outputs": [],
   "source": [
    "model = QwenVL()\n",
    "dset = _DSET_DICT['mmc']()\n",
    "q = dset[0]\n",
    "print(\"Test Question: \", q[prompt])\n",
    "q['image'].show()\n",
    "\n",
    "ans = model.answer_question(q['prompt'], system_message, q['image'])"
   ]
  }
 ],
 "metadata": {
  "kernelspec": {
   "display_name": "Python 3 (ipykernel)",
   "language": "python",
   "name": "python3"
  },
  "language_info": {
   "codemirror_mode": {
    "name": "ipython",
    "version": 3
   },
   "file_extension": ".py",
   "mimetype": "text/x-python",
   "name": "python",
   "nbconvert_exporter": "python",
   "pygments_lexer": "ipython3",
   "version": "3.10.14"
  }
 },
 "nbformat": 4,
 "nbformat_minor": 4
}
